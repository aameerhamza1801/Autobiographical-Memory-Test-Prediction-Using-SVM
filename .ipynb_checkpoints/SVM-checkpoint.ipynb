{
 "cells": [
  {
   "cell_type": "code",
   "execution_count": 1,
   "metadata": {},
   "outputs": [
    {
     "data": {
      "text/html": [
       "<div>\n",
       "<style scoped>\n",
       "    .dataframe tbody tr th:only-of-type {\n",
       "        vertical-align: middle;\n",
       "    }\n",
       "\n",
       "    .dataframe tbody tr th {\n",
       "        vertical-align: top;\n",
       "    }\n",
       "\n",
       "    .dataframe thead th {\n",
       "        text-align: right;\n",
       "    }\n",
       "</style>\n",
       "<table border=\"1\" class=\"dataframe\">\n",
       "  <thead>\n",
       "    <tr style=\"text-align: right;\">\n",
       "      <th></th>\n",
       "      <th>id</th>\n",
       "      <th>dataset</th>\n",
       "      <th>StartDate</th>\n",
       "      <th>EndDate</th>\n",
       "      <th>Age</th>\n",
       "      <th>Sex</th>\n",
       "      <th>Sex_TEXT</th>\n",
       "      <th>Ethnicity</th>\n",
       "      <th>Ethnicity_TEXT</th>\n",
       "      <th>Education</th>\n",
       "      <th>...</th>\n",
       "      <th>AMTdichot1</th>\n",
       "      <th>AMTdichot2</th>\n",
       "      <th>AMTdichot3</th>\n",
       "      <th>AMTdichot4</th>\n",
       "      <th>AMTdichot5</th>\n",
       "      <th>AMTdichot6</th>\n",
       "      <th>AMTdichot7</th>\n",
       "      <th>AMTdichot8</th>\n",
       "      <th>AMTdichot9</th>\n",
       "      <th>AMT_dichot10</th>\n",
       "    </tr>\n",
       "  </thead>\n",
       "  <tbody>\n",
       "    <tr>\n",
       "      <th>0</th>\n",
       "      <td>1.0</td>\n",
       "      <td>1.0</td>\n",
       "      <td>11/23/2017 16:47</td>\n",
       "      <td>11/23/2017 16:58</td>\n",
       "      <td>24</td>\n",
       "      <td>2</td>\n",
       "      <td>NaN</td>\n",
       "      <td>1</td>\n",
       "      <td>NaN</td>\n",
       "      <td>4</td>\n",
       "      <td>...</td>\n",
       "      <td>1.00</td>\n",
       "      <td>0.00</td>\n",
       "      <td>1.00</td>\n",
       "      <td>0.00</td>\n",
       "      <td>1.00</td>\n",
       "      <td>0.00</td>\n",
       "      <td>0.00</td>\n",
       "      <td>0.00</td>\n",
       "      <td>1.00</td>\n",
       "      <td>1.00</td>\n",
       "    </tr>\n",
       "    <tr>\n",
       "      <th>1</th>\n",
       "      <td>2.0</td>\n",
       "      <td>1.0</td>\n",
       "      <td>11/23/2017 16:43</td>\n",
       "      <td>11/23/2017 17:04</td>\n",
       "      <td>32</td>\n",
       "      <td>2</td>\n",
       "      <td>NaN</td>\n",
       "      <td>1</td>\n",
       "      <td>NaN</td>\n",
       "      <td>3</td>\n",
       "      <td>...</td>\n",
       "      <td>1.00</td>\n",
       "      <td>1.00</td>\n",
       "      <td>0.00</td>\n",
       "      <td>1.00</td>\n",
       "      <td>1.00</td>\n",
       "      <td>0.00</td>\n",
       "      <td>0.00</td>\n",
       "      <td>0.00</td>\n",
       "      <td>1.00</td>\n",
       "      <td>1.00</td>\n",
       "    </tr>\n",
       "    <tr>\n",
       "      <th>2</th>\n",
       "      <td>3.0</td>\n",
       "      <td>1.0</td>\n",
       "      <td>11/23/2017 16:46</td>\n",
       "      <td>11/23/2017 17:04</td>\n",
       "      <td>30</td>\n",
       "      <td>2</td>\n",
       "      <td>NaN</td>\n",
       "      <td>4</td>\n",
       "      <td>NaN</td>\n",
       "      <td>3</td>\n",
       "      <td>...</td>\n",
       "      <td>1.00</td>\n",
       "      <td>1.00</td>\n",
       "      <td>1.00</td>\n",
       "      <td>1.00</td>\n",
       "      <td>0.00</td>\n",
       "      <td>0.00</td>\n",
       "      <td>1.00</td>\n",
       "      <td>0.00</td>\n",
       "      <td>1.00</td>\n",
       "      <td>1.00</td>\n",
       "    </tr>\n",
       "    <tr>\n",
       "      <th>3</th>\n",
       "      <td>4.0</td>\n",
       "      <td>1.0</td>\n",
       "      <td>11/23/2017 16:45</td>\n",
       "      <td>11/23/2017 17:06</td>\n",
       "      <td>23</td>\n",
       "      <td>1</td>\n",
       "      <td>NaN</td>\n",
       "      <td>4</td>\n",
       "      <td>NaN</td>\n",
       "      <td>4</td>\n",
       "      <td>...</td>\n",
       "      <td>0.00</td>\n",
       "      <td>0.00</td>\n",
       "      <td>0.00</td>\n",
       "      <td>0.00</td>\n",
       "      <td>0.00</td>\n",
       "      <td>0.00</td>\n",
       "      <td>0.00</td>\n",
       "      <td>0.00</td>\n",
       "      <td>0.00</td>\n",
       "      <td>0.00</td>\n",
       "    </tr>\n",
       "    <tr>\n",
       "      <th>4</th>\n",
       "      <td>5.0</td>\n",
       "      <td>1.0</td>\n",
       "      <td>11/23/2017 16:45</td>\n",
       "      <td>11/23/2017 17:06</td>\n",
       "      <td>34</td>\n",
       "      <td>2</td>\n",
       "      <td>NaN</td>\n",
       "      <td>1</td>\n",
       "      <td>NaN</td>\n",
       "      <td>4</td>\n",
       "      <td>...</td>\n",
       "      <td>1.00</td>\n",
       "      <td>1.00</td>\n",
       "      <td>0.00</td>\n",
       "      <td>1.00</td>\n",
       "      <td>1.00</td>\n",
       "      <td>1.00</td>\n",
       "      <td>1.00</td>\n",
       "      <td>0.00</td>\n",
       "      <td>0.00</td>\n",
       "      <td>0.00</td>\n",
       "    </tr>\n",
       "  </tbody>\n",
       "</table>\n",
       "<p>5 rows × 85 columns</p>\n",
       "</div>"
      ],
      "text/plain": [
       "    id  dataset         StartDate           EndDate Age Sex  Sex_TEXT  \\\n",
       "0  1.0      1.0  11/23/2017 16:47  11/23/2017 16:58  24   2       NaN   \n",
       "1  2.0      1.0  11/23/2017 16:43  11/23/2017 17:04  32   2       NaN   \n",
       "2  3.0      1.0  11/23/2017 16:46  11/23/2017 17:04  30   2       NaN   \n",
       "3  4.0      1.0  11/23/2017 16:45  11/23/2017 17:06  23   1       NaN   \n",
       "4  5.0      1.0  11/23/2017 16:45  11/23/2017 17:06  34   2       NaN   \n",
       "\n",
       "  Ethnicity Ethnicity_TEXT Education     ...      AMTdichot1 AMTdichot2  \\\n",
       "0         1            NaN         4     ...            1.00       0.00   \n",
       "1         1            NaN         3     ...            1.00       1.00   \n",
       "2         4            NaN         3     ...            1.00       1.00   \n",
       "3         4            NaN         4     ...            0.00       0.00   \n",
       "4         1            NaN         4     ...            1.00       1.00   \n",
       "\n",
       "  AMTdichot3 AMTdichot4 AMTdichot5 AMTdichot6 AMTdichot7 AMTdichot8  \\\n",
       "0       1.00       0.00       1.00       0.00       0.00       0.00   \n",
       "1       0.00       1.00       1.00       0.00       0.00       0.00   \n",
       "2       1.00       1.00       0.00       0.00       1.00       0.00   \n",
       "3       0.00       0.00       0.00       0.00       0.00       0.00   \n",
       "4       0.00       1.00       1.00       1.00       1.00       0.00   \n",
       "\n",
       "  AMTdichot9 AMT_dichot10  \n",
       "0       1.00         1.00  \n",
       "1       1.00         1.00  \n",
       "2       1.00         1.00  \n",
       "3       0.00         0.00  \n",
       "4       0.00         0.00  \n",
       "\n",
       "[5 rows x 85 columns]"
      ]
     },
     "execution_count": 1,
     "metadata": {},
     "output_type": "execute_result"
    }
   ],
   "source": [
    "import pandas as pd\n",
    "import numpy as np\n",
    "df = pd.read_csv('input.csv')\n",
    "df.head()"
   ]
  },
  {
   "cell_type": "code",
   "execution_count": 2,
   "metadata": {},
   "outputs": [
    {
     "data": {
      "text/html": [
       "<div>\n",
       "<style scoped>\n",
       "    .dataframe tbody tr th:only-of-type {\n",
       "        vertical-align: middle;\n",
       "    }\n",
       "\n",
       "    .dataframe tbody tr th {\n",
       "        vertical-align: top;\n",
       "    }\n",
       "\n",
       "    .dataframe thead th {\n",
       "        text-align: right;\n",
       "    }\n",
       "</style>\n",
       "<table border=\"1\" class=\"dataframe\">\n",
       "  <thead>\n",
       "    <tr style=\"text-align: right;\">\n",
       "      <th></th>\n",
       "      <th>FAMT1</th>\n",
       "      <th>codFAMT1</th>\n",
       "    </tr>\n",
       "  </thead>\n",
       "  <tbody>\n",
       "    <tr>\n",
       "      <th>0</th>\n",
       "      <td>I will go on a vacation with my family in the ...</td>\n",
       "      <td>2.00</td>\n",
       "    </tr>\n",
       "    <tr>\n",
       "      <th>1</th>\n",
       "      <td>Spending time with family and friends for the ...</td>\n",
       "      <td>3.00</td>\n",
       "    </tr>\n",
       "    <tr>\n",
       "      <th>2</th>\n",
       "      <td>One day I will be in paradise</td>\n",
       "      <td>4.00</td>\n",
       "    </tr>\n",
       "    <tr>\n",
       "      <th>3</th>\n",
       "      <td>happy live long happily</td>\n",
       "      <td>4.00</td>\n",
       "    </tr>\n",
       "    <tr>\n",
       "      <th>4</th>\n",
       "      <td>I will be going to see An American in Paris ne...</td>\n",
       "      <td>1.00</td>\n",
       "    </tr>\n",
       "  </tbody>\n",
       "</table>\n",
       "</div>"
      ],
      "text/plain": [
       "                                               FAMT1 codFAMT1\n",
       "0  I will go on a vacation with my family in the ...     2.00\n",
       "1  Spending time with family and friends for the ...     3.00\n",
       "2                      One day I will be in paradise     4.00\n",
       "3                            happy live long happily     4.00\n",
       "4  I will be going to see An American in Paris ne...     1.00"
      ]
     },
     "execution_count": 2,
     "metadata": {},
     "output_type": "execute_result"
    }
   ],
   "source": [
    "df = df[['FAMT1', 'codFAMT1']]\n",
    "df = df[pd.notnull(df['codFAMT1'])]\n",
    "df.shape\n",
    "df.head()"
   ]
  },
  {
   "cell_type": "code",
   "execution_count": 3,
   "metadata": {},
   "outputs": [
    {
     "data": {
      "text/html": [
       "<div>\n",
       "<style scoped>\n",
       "    .dataframe tbody tr th:only-of-type {\n",
       "        vertical-align: middle;\n",
       "    }\n",
       "\n",
       "    .dataframe tbody tr th {\n",
       "        vertical-align: top;\n",
       "    }\n",
       "\n",
       "    .dataframe thead th {\n",
       "        text-align: right;\n",
       "    }\n",
       "</style>\n",
       "<table border=\"1\" class=\"dataframe\">\n",
       "  <thead>\n",
       "    <tr style=\"text-align: right;\">\n",
       "      <th></th>\n",
       "      <th>FAMT1</th>\n",
       "      <th>codFAMT1</th>\n",
       "    </tr>\n",
       "  </thead>\n",
       "  <tbody>\n",
       "    <tr>\n",
       "      <th>385</th>\n",
       "      <td>I will be going to puerto vallarta in one mont...</td>\n",
       "      <td>#NULL!</td>\n",
       "    </tr>\n",
       "    <tr>\n",
       "      <th>451</th>\n",
       "      <td>In 19 months I plan to retire from my job, I w...</td>\n",
       "      <td>#NULL!</td>\n",
       "    </tr>\n",
       "  </tbody>\n",
       "</table>\n",
       "</div>"
      ],
      "text/plain": [
       "                                                 FAMT1 codFAMT1\n",
       "385  I will be going to puerto vallarta in one mont...   #NULL!\n",
       "451  In 19 months I plan to retire from my job, I w...   #NULL!"
      ]
     },
     "execution_count": 3,
     "metadata": {},
     "output_type": "execute_result"
    }
   ],
   "source": [
    "df.columns = ['FAMT1', 'codFAMT1']\n",
    "df[df['codFAMT1'].str.contains(\"#NULL!\")]\n"
   ]
  },
  {
   "cell_type": "code",
   "execution_count": 4,
   "metadata": {},
   "outputs": [
    {
     "data": {
      "text/html": [
       "<div>\n",
       "<style scoped>\n",
       "    .dataframe tbody tr th:only-of-type {\n",
       "        vertical-align: middle;\n",
       "    }\n",
       "\n",
       "    .dataframe tbody tr th {\n",
       "        vertical-align: top;\n",
       "    }\n",
       "\n",
       "    .dataframe thead th {\n",
       "        text-align: right;\n",
       "    }\n",
       "</style>\n",
       "<table border=\"1\" class=\"dataframe\">\n",
       "  <thead>\n",
       "    <tr style=\"text-align: right;\">\n",
       "      <th></th>\n",
       "      <th>FAMT1</th>\n",
       "      <th>codFAMT1</th>\n",
       "    </tr>\n",
       "  </thead>\n",
       "  <tbody>\n",
       "    <tr>\n",
       "      <th>0</th>\n",
       "      <td>I will go on a vacation with my family in the ...</td>\n",
       "      <td>2.00</td>\n",
       "    </tr>\n",
       "    <tr>\n",
       "      <th>1</th>\n",
       "      <td>Spending time with family and friends for the ...</td>\n",
       "      <td>3.00</td>\n",
       "    </tr>\n",
       "    <tr>\n",
       "      <th>2</th>\n",
       "      <td>One day I will be in paradise</td>\n",
       "      <td>4.00</td>\n",
       "    </tr>\n",
       "    <tr>\n",
       "      <th>3</th>\n",
       "      <td>happy live long happily</td>\n",
       "      <td>4.00</td>\n",
       "    </tr>\n",
       "    <tr>\n",
       "      <th>4</th>\n",
       "      <td>I will be going to see An American in Paris ne...</td>\n",
       "      <td>1.00</td>\n",
       "    </tr>\n",
       "  </tbody>\n",
       "</table>\n",
       "</div>"
      ],
      "text/plain": [
       "                                               FAMT1 codFAMT1\n",
       "0  I will go on a vacation with my family in the ...     2.00\n",
       "1  Spending time with family and friends for the ...     3.00\n",
       "2                      One day I will be in paradise     4.00\n",
       "3                            happy live long happily     4.00\n",
       "4  I will be going to see An American in Paris ne...     1.00"
      ]
     },
     "execution_count": 4,
     "metadata": {},
     "output_type": "execute_result"
    }
   ],
   "source": [
    "df = df[df['codFAMT1'] != '#NULL!']\n",
    "df.head()"
   ]
  },
  {
   "cell_type": "code",
   "execution_count": 5,
   "metadata": {},
   "outputs": [
    {
     "data": {
      "text/html": [
       "<div>\n",
       "<style scoped>\n",
       "    .dataframe tbody tr th:only-of-type {\n",
       "        vertical-align: middle;\n",
       "    }\n",
       "\n",
       "    .dataframe tbody tr th {\n",
       "        vertical-align: top;\n",
       "    }\n",
       "\n",
       "    .dataframe thead th {\n",
       "        text-align: right;\n",
       "    }\n",
       "</style>\n",
       "<table border=\"1\" class=\"dataframe\">\n",
       "  <thead>\n",
       "    <tr style=\"text-align: right;\">\n",
       "      <th></th>\n",
       "      <th>FAMT1</th>\n",
       "      <th>codFAMT1</th>\n",
       "    </tr>\n",
       "  </thead>\n",
       "  <tbody>\n",
       "    <tr>\n",
       "      <th>0</th>\n",
       "      <td>I will go on a vacation with my family in the ...</td>\n",
       "      <td>2</td>\n",
       "    </tr>\n",
       "    <tr>\n",
       "      <th>1</th>\n",
       "      <td>Spending time with family and friends for the ...</td>\n",
       "      <td>3</td>\n",
       "    </tr>\n",
       "    <tr>\n",
       "      <th>2</th>\n",
       "      <td>One day I will be in paradise</td>\n",
       "      <td>4</td>\n",
       "    </tr>\n",
       "    <tr>\n",
       "      <th>3</th>\n",
       "      <td>happy live long happily</td>\n",
       "      <td>4</td>\n",
       "    </tr>\n",
       "    <tr>\n",
       "      <th>4</th>\n",
       "      <td>I will be going to see An American in Paris ne...</td>\n",
       "      <td>1</td>\n",
       "    </tr>\n",
       "  </tbody>\n",
       "</table>\n",
       "</div>"
      ],
      "text/plain": [
       "                                               FAMT1  codFAMT1\n",
       "0  I will go on a vacation with my family in the ...         2\n",
       "1  Spending time with family and friends for the ...         3\n",
       "2                      One day I will be in paradise         4\n",
       "3                            happy live long happily         4\n",
       "4  I will be going to see An American in Paris ne...         1"
      ]
     },
     "execution_count": 5,
     "metadata": {},
     "output_type": "execute_result"
    }
   ],
   "source": [
    "df['codFAMT1']=df['codFAMT1'].astype(float)\n",
    "df['codFAMT1']=df['codFAMT1'].astype(int)\n",
    "df.head()"
   ]
  },
  {
   "cell_type": "code",
   "execution_count": 6,
   "metadata": {},
   "outputs": [],
   "source": [
    "from sklearn.feature_extraction.text import TfidfVectorizer\n",
    "tfidf = TfidfVectorizer(sublinear_tf=True, min_df=5, norm='l2', ngram_range=(1, 2), stop_words='english')"
   ]
  },
  {
   "cell_type": "code",
   "execution_count": 7,
   "metadata": {},
   "outputs": [],
   "source": [
    "features = tfidf.fit_transform(df.FAMT1).toarray()\n",
    "labels = df.codFAMT1"
   ]
  },
  {
   "cell_type": "code",
   "execution_count": 8,
   "metadata": {},
   "outputs": [
    {
     "data": {
      "text/plain": [
       "(768, 382)"
      ]
     },
     "execution_count": 8,
     "metadata": {},
     "output_type": "execute_result"
    }
   ],
   "source": [
    "features.shape"
   ]
  },
  {
   "cell_type": "code",
   "execution_count": 9,
   "metadata": {},
   "outputs": [
    {
     "name": "stdout",
     "output_type": "stream",
     "text": [
      "Top 3 uni and bigrams for testing\n",
      "Class = '1':\n",
      "  . Top 3 unigrams:\n",
      ". traveling\n",
      ". job\n",
      ". vacation\n",
      "  . Top 3 bigrams:\n",
      ". holiday season\n",
      ". tell truth\n",
      ". feel happy\n",
      "Class = '2':\n",
      "  . Top 3 unigrams:\n",
      ". job\n",
      ". travel\n",
      ". vacation\n",
      "  . Top 3 bigrams:\n",
      ". tell truth\n",
      ". new home\n",
      ". holiday season\n",
      "Class = '3':\n",
      "  . Top 3 unigrams:\n",
      ". situation\n",
      ". trouble\n",
      ". mistake\n",
      "  . Top 3 bigrams:\n",
      ". truth know\n",
      ". tell truth\n",
      ". family friends\n",
      "Class = '4':\n",
      "  . Top 3 unigrams:\n",
      ". moment\n",
      ". truth\n",
      ". trump\n",
      "  . Top 3 bigrams:\n",
      ". tell truth\n",
      ". happy time\n",
      ". know truth\n",
      "Class = '5':\n",
      "  . Top 3 unigrams:\n",
      ". told\n",
      ". glad\n",
      ". got\n",
      "  . Top 3 bigrams:\n",
      ". feel happy\n",
      ". don know\n",
      ". feel proud\n"
     ]
    }
   ],
   "source": [
    "from io import StringIO\n",
    "from sklearn.feature_selection import chi2\n",
    "\n",
    "print(\"Top 3 uni and bigrams for testing\")\n",
    "N = 3\n",
    "for codFAMT1 in [1,2,3,4,5]:\n",
    "  features_chi2 = chi2(features, labels == codFAMT1)\n",
    "  indices = np.argsort(features_chi2[0])\n",
    "  feature_names = np.array(tfidf.get_feature_names())[indices]\n",
    "  unigrams = [v for v in feature_names if len(v.split(' ')) == 1]\n",
    "  bigrams = [v for v in feature_names if len(v.split(' ')) == 2]\n",
    "  print(\"Class = '{}':\".format(codFAMT1))\n",
    "  print(\"  . Top 3 unigrams:\\n. {}\".format('\\n. '.join(unigrams[-N:])))\n",
    "  print(\"  . Top 3 bigrams:\\n. {}\".format('\\n. '.join(bigrams[-N:])))"
   ]
  },
  {
   "cell_type": "code",
   "execution_count": 10,
   "metadata": {},
   "outputs": [
    {
     "name": "stdout",
     "output_type": "stream",
     "text": [
      "Multinomial NaiveBais accuracy =  0.7135416666666666\n"
     ]
    }
   ],
   "source": [
    "from sklearn.model_selection import train_test_split\n",
    "from sklearn.feature_extraction.text import CountVectorizer\n",
    "from sklearn.feature_extraction.text import TfidfTransformer\n",
    "from sklearn.naive_bayes import MultinomialNB\n",
    "\n",
    "X_train, X_test, y_train, y_test = train_test_split(df['FAMT1'], df['codFAMT1'], random_state = 0)\n",
    "\n",
    "#Lemmitization\n",
    "from textblob import Word\n",
    "X_train = X_train.apply(lambda x: \" \".join([Word(word).lemmatize() for word in x.split()]))\n",
    "X_test = X_test.apply(lambda x: \" \".join([Word(word).lemmatize() for word in x.split()]))\n",
    "\n",
    "\n",
    "count_vect = CountVectorizer(stop_words=\"english\")\n",
    "X_train_counts = count_vect.fit_transform(X_train)\n",
    "tfidf_transformer = TfidfTransformer()\n",
    "X_train_tfidf = tfidf_transformer.fit_transform(X_train_counts)\n",
    "clf = MultinomialNB().fit(X_train_tfidf, y_train)\n",
    "x_test_new = count_vect.transform(X_test)\n",
    "print (\"Multinomial NaiveBais accuracy = \", clf.score(x_test_new,y_test))"
   ]
  },
  {
   "cell_type": "code",
   "execution_count": 11,
   "metadata": {},
   "outputs": [
    {
     "name": "stdout",
     "output_type": "stream",
     "text": [
      "[1]\n"
     ]
    }
   ],
   "source": [
    "#Manual Testing for MNB\n",
    "# Write sentence and model will predict class\n",
    "\n",
    "print(clf.predict(count_vect.transform([\"Someone will buy a puppy.\"])))"
   ]
  },
  {
   "cell_type": "code",
   "execution_count": 12,
   "metadata": {},
   "outputs": [
    {
     "name": "stdout",
     "output_type": "stream",
     "text": [
      "LinearSVC accuracy = 0.7003502601557231\n"
     ]
    }
   ],
   "source": [
    "from sklearn.svm import LinearSVC\n",
    "from sklearn.model_selection import cross_val_score\n",
    "\n",
    "model = LinearSVC()\n",
    "model.fit(X_train_tfidf, y_train)\n",
    "y_pred = model.predict(count_vect.transform(X_test))\n",
    "acc = cross_val_score(model, tfidf.fit_transform(df.FAMT1), labels, scoring='accuracy', cv=10)\n",
    "print(\"LinearSVC accuracy =\",sum(acc)/10)"
   ]
  },
  {
   "cell_type": "code",
   "execution_count": null,
   "metadata": {},
   "outputs": [],
   "source": [
    "#Manual Testing for Linear SVM\n",
    "# Write sentence and model will predict class\n",
    "\n",
    "print(\"This sentence belongs to class : \",model.predict(count_vect.transform([\"Someone will buy a puppy.\"])))"
   ]
  },
  {
   "cell_type": "code",
   "execution_count": 14,
   "metadata": {},
   "outputs": [],
   "source": [
    "import re\n",
    "\n",
    "\n",
    "def preprocessing(text):\n",
    "    # remove HTML tags\n",
    "    text = re.sub(r'<.*?>', '', text)\n",
    "    \n",
    "    # remove the characters [\\], ['] and [\"]\n",
    "    text = re.sub(r\"\\\\\", \"\", text)    \n",
    "    text = re.sub(r\"\\'\", \"\", text)    \n",
    "    text = re.sub(r\"\\\"\", \"\", text)    \n",
    "    \n",
    "    # convert text to lowercase\n",
    "    text = text.strip().lower()\n",
    "    \n",
    "    # replace punctuation characters with spaces\n",
    "    filters='!\"\\'#$%&()*+,-./:;<=>?@[\\\\]^_`{|}~\\t\\n'\n",
    "    translate_dict = dict((c, \" \") for c in filters)\n",
    "    translate_map = str.maketrans(translate_dict)\n",
    "    text = text.translate(translate_map)\n",
    "\n",
    "    return text\n"
   ]
  },
  {
   "cell_type": "code",
   "execution_count": 15,
   "metadata": {},
   "outputs": [
    {
     "name": "stdout",
     "output_type": "stream",
     "text": [
      "Linear SVC accuracy after preprocessing =  0.734375\n"
     ]
    }
   ],
   "source": [
    "from sklearn.metrics import accuracy_score\n",
    "\n",
    "vectorizer = TfidfVectorizer(stop_words=\"english\", preprocessor=preprocessing, ngram_range=(1, 2))\n",
    "\n",
    "X_train1 = vectorizer.fit_transform(X_train)    \n",
    "X_test1 = vectorizer.transform(X_test)\n",
    "\n",
    "model = LinearSVC()\n",
    "model.fit(X_train1, y_train)\n",
    "y_pred = model.predict(X_test1)\n",
    "\n",
    "\n",
    "acc = accuracy_score(y_test, y_pred)\n",
    "print(\"Linear SVC accuracy after preprocessing = \", acc)"
   ]
  },
  {
   "cell_type": "code",
   "execution_count": 23,
   "metadata": {},
   "outputs": [
    {
     "name": "stdout",
     "output_type": "stream",
     "text": [
      "This sentence belongs to class :  [3]\n"
     ]
    }
   ],
   "source": [
    "#Manual Testing for Linear SVM after preprocessing\n",
    "# Write sentence and model will predict class\n",
    "\n",
    "print(\"This sentence belongs to class : \",model.predict(vectorizer.transform([\"Someone will buy a puppy.\"])))"
   ]
  },
  {
   "cell_type": "code",
   "execution_count": 17,
   "metadata": {},
   "outputs": [],
   "source": [
    "from sklearn import svm, datasets\n",
    "from sklearn.metrics import roc_curve, auc\n",
    "from sklearn.model_selection import train_test_split\n",
    "from sklearn.preprocessing import label_binarize\n",
    "from sklearn.multiclass import OneVsRestClassifier\n",
    "from scipy import interp\n",
    "\n",
    "#Binarize labels for ROC Curve\n",
    "y_train = label_binarize(y_train, classes=[1, 2, 3, 4, 5])\n",
    "y_test = label_binarize(y_test, classes=[1, 2, 3, 4, 5])"
   ]
  },
  {
   "cell_type": "code",
   "execution_count": 18,
   "metadata": {},
   "outputs": [],
   "source": [
    "from sklearn.linear_model import SGDClassifier as SGD\n",
    "sgd_params = {'alpha': [0.00006, 0.00007, 0.00008, 0.0001, 0.0005]}\n",
    "\n",
    "\n",
    "classifier = OneVsRestClassifier(LinearSVC())#svm.SVC(kernel='linear', probability=True, random_state=0)\n",
    "y_score = classifier.fit(X_train1, y_train).decision_function(X_test1)"
   ]
  },
  {
   "cell_type": "code",
   "execution_count": 19,
   "metadata": {},
   "outputs": [],
   "source": [
    "# Compute ROC curve and ROC area for each class\n",
    "fpr = dict()\n",
    "tpr = dict()\n",
    "roc_auc = dict()\n",
    "for i in range(5):\n",
    "    fpr[i], tpr[i], _ = roc_curve(y_test[:, i], y_score[:, i])\n",
    "    roc_auc[i] = auc(fpr[i], tpr[i])"
   ]
  },
  {
   "cell_type": "code",
   "execution_count": 20,
   "metadata": {},
   "outputs": [],
   "source": [
    "# Compute micro-average ROC curve and ROC area\n",
    "fpr[\"micro\"], tpr[\"micro\"], _ = roc_curve(y_test.ravel(), y_score.ravel())\n",
    "roc_auc[\"micro\"] = auc(fpr[\"micro\"], tpr[\"micro\"])"
   ]
  },
  {
   "cell_type": "code",
   "execution_count": 22,
   "metadata": {},
   "outputs": [
    {
     "data": {
      "image/png": "[encoded data removed]",
      "text/plain": [
       "<Figure size 432x288 with 1 Axes>"
      ]
     },
     "metadata": {
      "needs_background": "light"
     },
     "output_type": "display_data"
    }
   ],
   "source": [
    "import matplotlib.pyplot as plt\n",
    "from itertools import cycle\n",
    "plt.figure()\n",
    "lw = 2\n",
    "\n",
    "plt.plot(fpr[0], tpr[0], color='aqua', lw=lw, label='class 1 (area = %0.2f)' % roc_auc[0])\n",
    "plt.plot(fpr[1], tpr[1], color='darkorange', lw=lw, label='class 2 (area = %0.2f)' % roc_auc[1])\n",
    "plt.plot(fpr[2], tpr[2], color='cornflowerblue', lw=lw, label='class 3 (area = %0.2f)' % roc_auc[2])\n",
    "plt.plot(fpr[3], tpr[3], color='red', lw=lw, label='class 4 (area = %0.2f)' % roc_auc[3])\n",
    "plt.plot(fpr[4], tpr[4], color='green', lw=lw, label='class 5 (area = %0.2f)' % roc_auc[4])\n",
    "\n",
    "\n",
    "plt.plot([0, 1], [0, 1], color='navy', lw=lw, linestyle='--')\n",
    "plt.xlim([0.0, 1.0])\n",
    "plt.ylim([0.0, 1.05])\n",
    "plt.xlabel('False Positive Rate')\n",
    "plt.ylabel('True Positive Rate')\n",
    "plt.title('Receiver operating characteristic Curve')\n",
    "plt.legend(loc=\"lower right\")\n",
    "plt.show()"
   ]
  },
  {
   "cell_type": "code",
   "execution_count": null,
   "metadata": {},
   "outputs": [],
   "source": []
  }
 ],
 "metadata": {
  "kernelspec": {
   "display_name": "Python 3",
   "language": "python",
   "name": "python3"
  },
  "language_info": {
   "codemirror_mode": {
    "name": "ipython",
    "version": 3
   },
   "file_extension": ".py",
   "mimetype": "text/x-python",
   "name": "python",
   "nbconvert_exporter": "python",
   "pygments_lexer": "ipython3",
   "version": "3.5.6"
  }
 },
 "nbformat": 4,
 "nbformat_minor": 2
}
